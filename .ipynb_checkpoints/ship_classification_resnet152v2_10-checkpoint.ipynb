{
 "cells": [
  {
   "cell_type": "code",
   "execution_count": 1,
   "metadata": {},
   "outputs": [],
   "source": [
    "import numpy as np\n",
    "import pandas as pd\n",
    "import matplotlib.pyplot as plt\n",
    "from matplotlib import ticker\n",
    "import seaborn as sns\n",
    "%matplotlib inline\n",
    "import os\n",
    "import random\n",
    "import csv\n",
    "import cv2\n",
    "\n",
    "train_images = []\n",
    "with open('input/train/train.csv', 'rt') as file:\n",
    "    data = csv.reader(file)\n",
    "    for row in data:\n",
    "        img = row[0]\n",
    "        train_images.append(img)\n",
    "random.shuffle(train_images)\n",
    "\n",
    "test_images = []\n",
    "with open('input/test.csv', 'rt') as file:\n",
    "    data = csv.reader(file)\n",
    "    for row in data:\n",
    "        img = row[0]\n",
    "        test_images.append(img)\n",
    "random.shuffle(test_images)"
   ]
  },
  {
   "cell_type": "code",
   "execution_count": 2,
   "metadata": {},
   "outputs": [],
   "source": [
    "nrows = 150\n",
    "ncols = 150\n",
    "channels = 3\n",
    "\n",
    "def read_process_image(image_list):\n",
    "    X = [] # for resized images\n",
    "    y = [] # for labels\n",
    "    \n",
    "    for image in image_list:\n",
    "        exc = \"\"\n",
    "        image_path = \"input/train/images/\" + image\n",
    "        try:\n",
    "            img = cv2.imread(image_path, cv2.IMREAD_COLOR)\n",
    "            X.append(cv2.resize(img, (nrows, ncols), interpolation=cv2.INTER_CUBIC))\n",
    "        except Exception as e:\n",
    "            exc = image\n",
    "            print(str(e))\n",
    "            print(image_path)\n",
    "        with open('input/train/train.csv', 'rt') as file:\n",
    "            data = csv.reader(file)\n",
    "            for row in data:\n",
    "                if row[0] == image:\n",
    "                    label = row[1]\n",
    "        if (exc != image):\n",
    "            y.append(label)\n",
    "    \n",
    "    return X, y"
   ]
  },
  {
   "cell_type": "code",
   "execution_count": null,
   "metadata": {},
   "outputs": [],
   "source": [
    "X, y = read_process_image(train_images)"
   ]
  },
  {
   "cell_type": "code",
   "execution_count": null,
   "metadata": {},
   "outputs": [],
   "source": [
    "train_files = pd.read_csv('input/train/train.csv', names=['image', 'category'])\n",
    "train_files.head()"
   ]
  },
  {
   "cell_type": "code",
   "execution_count": null,
   "metadata": {},
   "outputs": [],
   "source": [
    "test_files = pd.read_csv('input/test.csv', names=['image'])\n",
    "test_files.head()"
   ]
  },
  {
   "cell_type": "code",
   "execution_count": null,
   "metadata": {},
   "outputs": [],
   "source": [
    "plt.figure(figsize=(20,10))\n",
    "columns = 5\n",
    "for i in range(columns):\n",
    "    plt.subplot(5 / columns + 1, columns, i + 1)\n",
    "    plt.imshow(X[i])"
   ]
  },
  {
   "cell_type": "code",
   "execution_count": null,
   "metadata": {},
   "outputs": [],
   "source": [
    "X = np.array(X)\n",
    "y = np.array(y)\n",
    "\n",
    "sns.countplot(y)\n",
    "plt.title('Labels ships')"
   ]
  },
  {
   "cell_type": "markdown",
   "metadata": {},
   "source": [
    "Labels\n",
    "- 1: Cargo\n",
    "- 2: Military\n",
    "- 3: Carrier\n",
    "- 4: Cruise\n",
    "- 5: Tankers\n",
    "- 6: Container Ship\n",
    "- 7: Bulk Carrier\n",
    "- 8: Passengers Ship\n",
    "- 9: Reefer\n",
    "- 10: Yacht"
   ]
  },
  {
   "cell_type": "code",
   "execution_count": null,
   "metadata": {},
   "outputs": [],
   "source": [
    "print(\"Shape of train images is:\", X.shape)\n",
    "print(\"Shape of labels is:\", y.shape)"
   ]
  },
  {
   "cell_type": "code",
   "execution_count": null,
   "metadata": {},
   "outputs": [],
   "source": [
    "from sklearn.preprocessing import LabelEncoder\n",
    "from keras.utils import np_utils\n",
    "\n",
    "encoder = LabelEncoder()\n",
    "encoder.fit(y)\n",
    "encoded_Y = encoder.transform(y)\n",
    "y = np_utils.to_categorical(encoded_Y)"
   ]
  },
  {
   "cell_type": "code",
   "execution_count": null,
   "metadata": {},
   "outputs": [],
   "source": [
    "from sklearn.model_selection import train_test_split\n",
    "\n",
    "X_train, X_val, y_train, y_val = train_test_split(X, y, test_size=0.20, random_state=2)"
   ]
  },
  {
   "cell_type": "code",
   "execution_count": null,
   "metadata": {},
   "outputs": [],
   "source": [
    "import gc\n",
    "\n",
    "gc.collect()\n",
    "\n",
    "ntrain = len(X_train)\n",
    "nval = len(X_val)\n",
    "\n",
    "batch_size = 32"
   ]
  },
  {
   "cell_type": "code",
   "execution_count": null,
   "metadata": {},
   "outputs": [],
   "source": [
    "from keras.applications import InceptionResNetV2\n",
    "from keras.applications import VGG19\n",
    "\n",
    "conv_base = VGG19(weights='imagenet', include_top=False, input_shape=(150,150,3))\n",
    "# conv_base = InceptionResNetV2(weights='imagenet', include_top=False, input_shape=(150,150,3))"
   ]
  },
  {
   "cell_type": "code",
   "execution_count": null,
   "metadata": {},
   "outputs": [],
   "source": [
    "conv_base.summary()"
   ]
  },
  {
   "cell_type": "code",
   "execution_count": null,
   "metadata": {},
   "outputs": [],
   "source": [
    "from keras import layers\n",
    "from keras import models\n",
    "\n",
    "model = models.Sequential()\n",
    "model.add(conv_base)\n",
    "model.add(layers.Flatten())\n",
    "model.add(layers.Dense(256, activation='relu'))\n",
    "model.add(layers.Dense(10, activation='softmax'))"
   ]
  },
  {
   "cell_type": "code",
   "execution_count": null,
   "metadata": {},
   "outputs": [],
   "source": [
    "model.summary()"
   ]
  },
  {
   "cell_type": "code",
   "execution_count": null,
   "metadata": {},
   "outputs": [],
   "source": [
    "print('Number of trainable weights before freezing the conv base:', len(model.trainable_weights))\n",
    "conv_base.trainable = False\n",
    "print('Number of trainable weights after freezing the conv base:', len(model.trainable_weights))"
   ]
  },
  {
   "cell_type": "code",
   "execution_count": null,
   "metadata": {},
   "outputs": [],
   "source": [
    "from keras import optimizers\n",
    "\n",
    "model.compile(loss='categorical_crossentropy', optimizer=optimizers.RMSprop(lr=2e-5), metrics=['acc'])"
   ]
  },
  {
   "cell_type": "code",
   "execution_count": null,
   "metadata": {},
   "outputs": [],
   "source": [
    "from keras.preprocessing.image import ImageDataGenerator\n",
    "from keras.preprocessing.image import img_to_array, load_img\n",
    "\n",
    "train_datagen = ImageDataGenerator(rescale=1./255,\n",
    "                                   rotation_range=40,\n",
    "                                   width_shift_range=0.2,\n",
    "                                   height_shift_range=0.2,\n",
    "                                   shear_range=0.2,\n",
    "                                   zoom_range=0.2,\n",
    "                                   horizontal_flip=True,\n",
    "                                   fill_mode='nearest')\n",
    "\n",
    "val_datagen = ImageDataGenerator(rescale=1./255)"
   ]
  },
  {
   "cell_type": "code",
   "execution_count": null,
   "metadata": {},
   "outputs": [],
   "source": [
    "train_generator = train_datagen.flow(X_train, y_train, batch_size=batch_size)\n",
    "val_generator = val_datagen.flow(X_val, y_val, batch_size=batch_size)"
   ]
  },
  {
   "cell_type": "code",
   "execution_count": null,
   "metadata": {},
   "outputs": [],
   "source": [
    "history = model.fit_generator(train_generator,\n",
    "                              steps_per_epoch=ntrain // batch_size,\n",
    "                              epochs=50,\n",
    "                              validation_data=val_generator,\n",
    "                              validation_steps=nval // batch_size)"
   ]
  },
  {
   "cell_type": "code",
   "execution_count": null,
   "metadata": {},
   "outputs": [],
   "source": [
    "model.save_weights('model_weights_inception_resnet_v2.h5')\n",
    "# model.save_weights('model_weights_vgg19.h5')\n",
    "model.save('model_keras_inception_resnet_v2.h5', include_optimizer=False) # to get rid of load_model 'saved optimizer' warning"
   ]
  },
  {
   "cell_type": "code",
   "execution_count": null,
   "metadata": {},
   "outputs": [],
   "source": [
    "acc = history.history['acc']\n",
    "val_acc = history.history['val_acc']\n",
    "loss = history.history['loss']\n",
    "val_loss = history.history['val_loss']\n",
    "\n",
    "epochs = range(1, len(acc) + 1)\n",
    "\n",
    "plt.plot(epochs, acc, 'b', label='Training accurarcy')\n",
    "plt.plot(epochs, val_acc, 'r', label='Validation accurarcy')\n",
    "plt.title('Training and Validation accurarcy')\n",
    "plt.legend()\n",
    "\n",
    "plt.figure()\n",
    "plt.plot(epochs, loss, 'b', label='Training loss')\n",
    "plt.plot(epochs, val_loss, 'r', label='Validation loss')\n",
    "plt.title('Training and Validation loss')\n",
    "plt.legend()\n",
    "\n",
    "plt.show()"
   ]
  },
  {
   "cell_type": "code",
   "execution_count": null,
   "metadata": {},
   "outputs": [],
   "source": [
    "def smooth_plot(points, factor=0.7):\n",
    "    smooth_pts = []\n",
    "    for point in points:\n",
    "        if smooth_pts:\n",
    "            previous = smooth_pts[-1]\n",
    "            smooth_pts.append(previous * factor + point * (1 - factor))\n",
    "        else:\n",
    "            smooth_pts.append(point)\n",
    "    return smooth_pts"
   ]
  },
  {
   "cell_type": "code",
   "execution_count": null,
   "metadata": {},
   "outputs": [],
   "source": [
    "plt.plot(epochs, smooth_plot(acc), 'b', label='Training accurarcy')\n",
    "plt.plot(epochs, smooth_plot(val_acc), 'r', label='Validation accurarcy')\n",
    "plt.title('Training and Validation accurarcy')\n",
    "plt.legend()\n",
    "plt.show()"
   ]
  },
  {
   "cell_type": "code",
   "execution_count": null,
   "metadata": {},
   "outputs": [],
   "source": [
    "test_images = []\n",
    "with open('input/test.csv', 'rt') as file:\n",
    "    data = csv.reader(file)\n",
    "    for row in data:\n",
    "        img = row[0]\n",
    "        test_images.append(img)"
   ]
  },
  {
   "cell_type": "code",
   "execution_count": null,
   "metadata": {},
   "outputs": [],
   "source": [
    "nrows = 150\n",
    "ncolumns = 150\n",
    "channels = 3\n",
    "\n",
    "def read_process_image(image_list):\n",
    "    X = [] # for resized images\n",
    "    y = [] # for labels\n",
    "    \n",
    "    for image in image_list:\n",
    "        exc = \"\"\n",
    "        image_path = \"input/train/images/\" + image\n",
    "        try:\n",
    "            img = cv2.imread(image_path, cv2.IMREAD_COLOR)\n",
    "            X.append(cv2.resize(img, (nrows, ncolumns), interpolation=cv2.INTER_CUBIC))\n",
    "        except Exception as e:\n",
    "            exc = image\n",
    "            print(str(e))\n",
    "    \n",
    "    return X, y"
   ]
  },
  {
   "cell_type": "code",
   "execution_count": null,
   "metadata": {},
   "outputs": [],
   "source": [
    "X_test, y_test = read_process_image(test_images[0:10])\n",
    "x = np.array(X_test)\n",
    "test_datagen = ImageDataGenerator(rescale=1./255)"
   ]
  },
  {
   "cell_type": "code",
   "execution_count": null,
   "metadata": {},
   "outputs": [],
   "source": [
    "from keras.models import load_model\n",
    "model = load_model('model_keras.h5')"
   ]
  },
  {
   "cell_type": "code",
   "execution_count": null,
   "metadata": {},
   "outputs": [],
   "source": [
    "i = 0\n",
    "columns = 5\n",
    "text_labels = []\n",
    "convert_label_dict = {'1': 'Cargo', \n",
    "                      '2': 'Military', \n",
    "                      '3': 'Carrier', \n",
    "                      '4': 'Cruise', \n",
    "                      '5': 'Tankers', \n",
    "                      '6': 'Container Ship', \n",
    "                      '7': 'Bulk Carrier', \n",
    "                      '8': 'Passengers Ship', \n",
    "                      '9': 'Reefer', \n",
    "                      '10': 'Yacht'}\n",
    "plt.figure(figsize=(30,20))\n",
    "\n",
    "for batch in test_datagen.flow(x, batch_size=1):\n",
    "    pred = model.predict(batch)\n",
    "    pred_label = np.argmax(pred)\n",
    "\n",
    "    text_labels.append(str(pred_label))\n",
    "    print(text_labels)\n",
    "    plt.subplot(15 / columns + 1, columns, i + 1)\n",
    "    plt.title('This is a ' + convert_label_dict.get(text_labels[i]))\n",
    "    imgplot = plt.imshow(batch[0])\n",
    "    i += 1\n",
    "    if i % 20 == 0:\n",
    "        break\n",
    "\n",
    "plt.show()"
   ]
  },
  {
   "cell_type": "code",
   "execution_count": null,
   "metadata": {},
   "outputs": [],
   "source": []
  }
 ],
 "metadata": {
  "kernelspec": {
   "display_name": "Python 3",
   "language": "python",
   "name": "python3"
  },
  "language_info": {
   "codemirror_mode": {
    "name": "ipython",
    "version": 3
   },
   "file_extension": ".py",
   "mimetype": "text/x-python",
   "name": "python",
   "nbconvert_exporter": "python",
   "pygments_lexer": "ipython3",
   "version": "3.7.6"
  }
 },
 "nbformat": 4,
 "nbformat_minor": 4
}
